{
 "cells": [
  {
   "cell_type": "markdown",
   "metadata": {},
   "source": [
    "<font color=\"Blue\">Tocando Música de Natal Usando a Biblioteca Selenium </font>\n",
    "----"
   ]
  },
  {
   "cell_type": "code",
   "execution_count": 1,
   "metadata": {},
   "outputs": [],
   "source": [
    "from selenium import webdriver\n",
    "from time import sleep"
   ]
  },
  {
   "cell_type": "code",
   "execution_count": 2,
   "metadata": {},
   "outputs": [],
   "source": [
    "driver= webdriver.Chrome()\n",
    "driver.get('https://www.musicca.com/pt/piano')"
   ]
  },
  {
   "cell_type": "markdown",
   "metadata": {},
   "source": [
    "Definindo as notas\n",
    "----"
   ]
  },
  {
   "cell_type": "code",
   "execution_count": 3,
   "metadata": {},
   "outputs": [
    {
     "name": "stderr",
     "output_type": "stream",
     "text": [
      "C:\\Users\\Thiago\\AppData\\Local\\Temp/ipykernel_2332/1219573019.py:1: DeprecationWarning: find_element_by_xpath is deprecated. Please use find_element(by=By.XPATH, value=xpath) instead\n",
      "  dó=driver.find_element_by_xpath('''//*[@id=\"piano\"]/div[2]/ul/li[15]/span[1]''')\n",
      "C:\\Users\\Thiago\\AppData\\Local\\Temp/ipykernel_2332/1219573019.py:2: DeprecationWarning: find_element_by_xpath is deprecated. Please use find_element(by=By.XPATH, value=xpath) instead\n",
      "  ré=driver.find_element_by_xpath('''//*[@id=\"piano\"]/div[2]/ul/li[16]/span[1]''')\n",
      "C:\\Users\\Thiago\\AppData\\Local\\Temp/ipykernel_2332/1219573019.py:3: DeprecationWarning: find_element_by_xpath is deprecated. Please use find_element(by=By.XPATH, value=xpath) instead\n",
      "  mi=driver.find_element_by_xpath('''//*[@id=\"piano\"]/div[2]/ul/li[17]/span''')\n",
      "C:\\Users\\Thiago\\AppData\\Local\\Temp/ipykernel_2332/1219573019.py:4: DeprecationWarning: find_element_by_xpath is deprecated. Please use find_element(by=By.XPATH, value=xpath) instead\n",
      "  fá=driver.find_element_by_xpath('''//*[@id=\"piano\"]/div[2]/ul/li[18]/span[1]''')\n",
      "C:\\Users\\Thiago\\AppData\\Local\\Temp/ipykernel_2332/1219573019.py:5: DeprecationWarning: find_element_by_xpath is deprecated. Please use find_element(by=By.XPATH, value=xpath) instead\n",
      "  sol=driver.find_element_by_xpath('''//*[@id=\"piano\"]/div[2]/ul/li[19]/span[1]''')\n"
     ]
    }
   ],
   "source": [
    "dó=driver.find_element_by_xpath('''//*[@id=\"piano\"]/div[2]/ul/li[15]/span[1]''')\n",
    "ré=driver.find_element_by_xpath('''//*[@id=\"piano\"]/div[2]/ul/li[16]/span[1]''')\n",
    "mi=driver.find_element_by_xpath('''//*[@id=\"piano\"]/div[2]/ul/li[17]/span''')\n",
    "fá=driver.find_element_by_xpath('''//*[@id=\"piano\"]/div[2]/ul/li[18]/span[1]''')\n",
    "sol=driver.find_element_by_xpath('''//*[@id=\"piano\"]/div[2]/ul/li[19]/span[1]''')\n"
   ]
  },
  {
   "cell_type": "markdown",
   "metadata": {},
   "source": [
    "Música\n",
    "----"
   ]
  },
  {
   "cell_type": "code",
   "execution_count": 4,
   "metadata": {},
   "outputs": [],
   "source": [
    "#tocando a música\n",
    "mi.click()\n",
    "sleep(1/4)\n",
    "mi.click()\n",
    "sleep(1/4)\n",
    "mi.click()\n",
    "sleep(1/2)\n",
    "mi.click()\n",
    "sleep(1/4)\n",
    "mi.click()\n",
    "sleep(1/4)\n",
    "mi.click()\n",
    "sleep(1/2)\n",
    "mi.click()\n",
    "sleep(1/4)\n",
    "sol.click()\n",
    "sleep(1/4)\n",
    "dó.click()\n",
    "sleep(1/3)\n",
    "ré.click()\n",
    "sleep(1/7)\n",
    "mi.click()\n",
    "sleep(11/10)\n",
    "fá.click()\n",
    "sleep(1/4)\n",
    "fá.click()\n",
    "sleep(1/4)\n",
    "fá.click()\n",
    "sleep(1/4)\n",
    "fá.click()\n",
    "sleep(1/4)\n",
    "fá.click()\n",
    "sleep(1/4)\n",
    "mi.click()\n",
    "sleep(1/4)\n",
    "mi.click()\n",
    "sleep(1/4)\n",
    "mi.click()\n",
    "sleep(1/4)\n",
    "mi.click()\n",
    "sleep(1/4)\n",
    "ré.click()\n",
    "sleep(1/4)\n",
    "ré.click()\n",
    "sleep(1/4)\n",
    "mi.click()\n",
    "sleep(1/4)\n",
    "ré.click()\n",
    "sleep(6/10)\n",
    "sol.click()\n",
    "sleep(6/10)\n",
    "mi.click()\n",
    "sleep(1/4)\n",
    "mi.click()\n",
    "sleep(1/4)\n",
    "mi.click()\n",
    "sleep(1/2)\n",
    "mi.click()\n",
    "sleep(1/4)\n",
    "mi.click()\n",
    "sleep(1/4)\n",
    "mi.click()\n",
    "sleep(1/2)\n",
    "mi.click()\n",
    "sleep(1/4)\n",
    "sol.click()\n",
    "sleep(1/4)\n",
    "dó.click()\n",
    "sleep(1/3)\n",
    "ré.click()\n",
    "sleep(1/7)\n",
    "mi.click()\n",
    "sleep(11/10)\n",
    "fá.click()\n",
    "sleep(1/4)\n",
    "fá.click()\n",
    "sleep(1/4)\n",
    "fá.click()\n",
    "sleep(1/4)\n",
    "fá.click()\n",
    "sleep(1/4)\n",
    "fá.click()\n",
    "sleep(1/4)\n",
    "mi.click()\n",
    "sleep(1/4)\n",
    "mi.click()\n",
    "sleep(1/4)\n",
    "mi.click()\n",
    "sleep(1/4)\n",
    "sol.click()\n",
    "sleep(1/4)\n",
    "sol.click()\n",
    "sleep(1/4)\n",
    "fá.click()\n",
    "sleep(1/4)\n",
    "ré.click()\n",
    "sleep(1/4)\n",
    "dó.click()"
   ]
  },
  {
   "cell_type": "code",
   "execution_count": null,
   "metadata": {},
   "outputs": [],
   "source": []
  }
 ],
 "metadata": {
  "kernelspec": {
   "display_name": "Python 3 (ipykernel)",
   "language": "python",
   "name": "python3"
  },
  "language_info": {
   "codemirror_mode": {
    "name": "ipython",
    "version": 3
   },
   "file_extension": ".py",
   "mimetype": "text/x-python",
   "name": "python",
   "nbconvert_exporter": "python",
   "pygments_lexer": "ipython3",
   "version": "3.9.7"
  }
 },
 "nbformat": 4,
 "nbformat_minor": 4
}
