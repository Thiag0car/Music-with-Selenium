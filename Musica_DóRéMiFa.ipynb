{
 "cells": [
  {
   "cell_type": "code",
   "execution_count": 44,
   "metadata": {},
   "outputs": [],
   "source": [
    "from selenium import webdriver\n",
    "import chromedriver_binary\n",
    "import time\n",
    "import warnings\n",
    "warnings.filterwarnings('ignore')"
   ]
  },
  {
   "cell_type": "code",
   "execution_count": 45,
   "metadata": {},
   "outputs": [],
   "source": [
    "driver= webdriver.Chrome()\n",
    "driver.get('https://www.musicca.com/pt/piano')"
   ]
  },
  {
   "cell_type": "code",
   "execution_count": 46,
   "metadata": {},
   "outputs": [],
   "source": [
    "dó = driver.find_element_by_xpath('//*[@id=\"piano\"]/div[2]/ul/li[15]/span[1]')\n",
    "ré = driver.find_element_by_xpath('//*[@id=\"piano\"]/div[2]/ul/li[16]/span[1]')\n",
    "mi = driver.find_element_by_xpath('//*[@id=\"piano\"]/div[2]/ul/li[17]/span')\n",
    "fá = driver.find_element_by_xpath('//*[@id=\"piano\"]/div[2]/ul/li[18]/span[1]')\n",
    "sol = driver.find_element_by_xpath('//*[@id=\"piano\"]/div[2]/ul/li[19]/span[1]')"
   ]
  },
  {
   "cell_type": "code",
   "execution_count": 62,
   "metadata": {},
   "outputs": [],
   "source": [
    "tempo_maior = 1/3.85\n",
    "tempo_menor = 1/3\n",
    "\n",
    "\n",
    "dó.click()\n",
    "time.sleep(tempo_menor)\n",
    "ré.click()\n",
    "time.sleep(tempo_menor)\n",
    "mi.click()\n",
    "time.sleep(tempo_maior)\n",
    "fá.click()\n",
    "time.sleep(tempo_maior)\n",
    "fá.click()\n",
    "time.sleep(tempo_maior)\n",
    "fá.click()\n",
    "time.sleep(tempo_menor)\n",
    "\n",
    "dó.click()\n",
    "time.sleep(tempo_menor)\n",
    "ré.click()\n",
    "time.sleep(tempo_menor)\n",
    "dó.click()\n",
    "time.sleep(tempo_maior)\n",
    "ré.click()\n",
    "time.sleep(tempo_maior)\n",
    "ré.click()\n",
    "time.sleep(tempo_maior)\n",
    "ré.click()\n",
    "time.sleep(tempo_menor)\n",
    "\n",
    "dó.click()\n",
    "time.sleep(tempo_menor)\n",
    "sol.click()\n",
    "time.sleep(tempo_menor)\n",
    "fá.click()\n",
    "time.sleep(tempo_maior)\n",
    "mi.click()\n",
    "time.sleep(tempo_maior)\n",
    "mi.click()\n",
    "time.sleep(tempo_maior)\n",
    "mi.click()\n",
    "time.sleep(tempo_menor)\n",
    "\n",
    "dó.click()\n",
    "time.sleep(tempo_menor)\n",
    "ré.click()\n",
    "time.sleep(tempo_menor)\n",
    "mi.click()\n",
    "time.sleep(tempo_maior)\n",
    "fá.click()\n",
    "time.sleep(tempo_maior)\n",
    "fá.click()\n",
    "time.sleep(tempo_maior)\n",
    "fá.click()\n",
    "time.sleep(tempo_menor)"
   ]
  },
  {
   "cell_type": "code",
   "execution_count": null,
   "metadata": {},
   "outputs": [],
   "source": []
  }
 ],
 "metadata": {
  "kernelspec": {
   "display_name": "Python 3.9.7 64-bit",
   "language": "python",
   "name": "python3"
  },
  "language_info": {
   "codemirror_mode": {
    "name": "ipython",
    "version": 3
   },
   "file_extension": ".py",
   "mimetype": "text/x-python",
   "name": "python",
   "nbconvert_exporter": "python",
   "pygments_lexer": "ipython3",
   "version": "3.9.7"
  },
  "orig_nbformat": 4,
  "vscode": {
   "interpreter": {
    "hash": "974c76ea0e2fcf3d11e2bbbee12a65c19e0510e27c4abcf49a2c5853615ff2ff"
   }
  }
 },
 "nbformat": 4,
 "nbformat_minor": 2
}
